{
 "metadata": {
  "kernelspec": {
   "display_name": "Streamlit Notebook",
   "name": "streamlit"
  }
 },
 "nbformat_minor": 5,
 "nbformat": 4,
 "cells": [
  {
   "cell_type": "markdown",
   "id": "542387e5-3286-408c-baa4-7f5a5623dc48",
   "metadata": {
    "name": "Summary",
    "collapsed": false
   },
   "source": "# Building a Customer Support Agent with Cortex AI at Tasty Bytes\n\n**Tasty Bytes** is a fictional global food truck enterprise that has established its presence in 30 cities across 15 countries, boasting a network of 450 trucks offering 15 diverse menu types under various brands. Our mission at Tasty Bytes is to improve Customer Experiences by leveraging the power of AI with Snowflake Cortex.\n\n## Power of Snowflake Cortex LLM Fine Tuning\nIn this tutorial, we will build an LLM-based customer support agent that showcases the power of Cortex Fine-Tuning and helps the Tasty Bytes team respond with highly accurate automated emails to customer tickets, all with minimal resources and time. Fine-tuning has significantly advanced the Tasty Bytes team’s ability to meet the key objective of enhancing customer experiences.\n\n"
  },
  {
   "cell_type": "code",
   "execution_count": null,
   "id": "3775908f-ca36-4846-8f38-5adca39217f2",
   "metadata": {
    "collapsed": false,
    "language": "python",
    "name": "sessionimport"
   },
   "outputs": [],
   "source": [
    "# Import python packages\n",
    "import streamlit as st\n",
    "import pandas as pd\n",
    "\n",
    "# We can also use Snowpark for our analyses!\n",
    "from snowflake.snowpark.context import get_active_session\n",
    "session = get_active_session()\n"
   ]
  },
  {
   "cell_type": "code",
   "execution_count": null,
   "id": "8d50cbf4-0c8d-4950-86cb-114990437ac9",
   "metadata": {
    "collapsed": false,
    "language": "sql",
    "name": "listtables"
   },
   "outputs": [],
   "source": [
    "SHOW TABLES;"
   ]
  },
  {
   "cell_type": "markdown",
   "id": "2f46a3b8-1e80-4cac-b7e5-9d465bb85d0b",
   "metadata": {
    "name": "raw_supportemails",
    "collapsed": false
   },
   "source": "The `SUPPORT_EMAILS` table contains parsed email data from customers, which is essential for building and fine-tuning the customer support agent. This table includes the following columns:\n\n- **subject**: The subject line of the email, providing a brief summary of the customer's query or issue.\n- **body**: The main content of the email, containing the detailed message from the customer.\n- **timestamp**: The date and time when the email was received, allowing for tracking and analyzing the timing of customer interactions.\n- **labeled_location**: The location of the truck,this is detected from the message or human in the flow can append this\n- **labeled_truck**: The name of the truck,this is detected from the message or human in the flow can append this\n- **response** : The actual response that will be used to construct prompt and response to train the model\n"
  },
  {
   "cell_type": "code",
   "execution_count": null,
   "id": "c695373e-ac74-4b62-a1f1-08206cbd5c81",
   "metadata": {
    "collapsed": false,
    "language": "sql",
    "name": "viewsourceemails"
   },
   "outputs": [],
   "source": [
    "SELECT * FROM SUPPORT_EMAILS LIMIT 2;"
   ]
  },
  {
   "cell_type": "markdown",
   "id": "ac94b502-e5c8-4056-9c25-5b7dff425555",
   "metadata": {
    "name": "markdowndataprep",
    "collapsed": false
   },
   "source": "* Build the Training table and a Validation table based on the Support_Emails table.This is already created and shared for your convenience using a Mod function on the Id field so that the Train and Test split can be built that will give a reproducible sample.\n* A field called golden JSON was created. This contains the location,truck and the response body.\n* The body will be used as a prompt and the Golden JSON will be the completion for training the LLM."
  },
  {
   "cell_type": "code",
   "id": "495ad87d-7dee-4c20-bb02-75f361baca9a",
   "metadata": {
    "language": "sql",
    "name": "fntocreatejson",
    "collapsed": false
   },
   "outputs": [],
   "source": "CREATE OR REPLACE FUNCTION BUILD_EXAMPLE(location STRING, truck STRING, response_body STRING)\nRETURNS STRING\nLANGUAGE SQL\nAS\n$$\nCONCAT(\n'{ location: ', IFF(location IS NULL, 'null', CONCAT('\"', location, '\"')), \n', truck: ', IFF(truck IS NULL, 'null', CONCAT('\"', truck, '\"')), \n', response_body: ', IFF(response_body IS NULL, 'null', CONCAT('\"', REPLACE(response_body, '\\n', '\\\\n'), '\"')), '\n}')\n$$\n;",
   "execution_count": null
  },
  {
   "cell_type": "markdown",
   "id": "ad257805-405b-4e36-ba4d-b0b80de02b76",
   "metadata": {
    "name": "Splitdata",
    "collapsed": false
   },
   "source": "* Split 80% training data and 20% validation data\n"
  },
  {
   "cell_type": "code",
   "id": "19e97ace-9749-4320-ba59-62f4fbece80d",
   "metadata": {
    "language": "sql",
    "name": "valjson",
    "collapsed": false
   },
   "outputs": [],
   "source": "CREATE OR REPLACE TABLE VALIDATION AS (SELECT *, BUILD_EXAMPLE(LABELED_LOCATION, LABELED_TRUCK, SUPPORT_RESPONSE) as GOLDEN_JSON FROM SUPPORT_EMAILS \n-- Split: 20% validation data, 80% training data\nWHERE ID % 10 < 2);",
   "execution_count": null
  },
  {
   "cell_type": "code",
   "id": "cf9fb3b0-aa7c-4ff6-bff9-2844ced04eed",
   "metadata": {
    "language": "sql",
    "name": "trainjson",
    "collapsed": false
   },
   "outputs": [],
   "source": "CREATE OR REPLACE TABLE TRAINING AS (SELECT *,BUILD_EXAMPLE(LABELED_LOCATION, LABELED_TRUCK, SUPPORT_RESPONSE) as GOLDEN_JSON FROM SUPPORT_EMAILS WHERE ID % 10 >= 2);",
   "execution_count": null
  },
  {
   "cell_type": "code",
   "execution_count": null,
   "id": "9202391b-83be-4d51-9391-1b5a04547ffc",
   "metadata": {
    "collapsed": false,
    "language": "sql",
    "name": "viewtrainingdata"
   },
   "outputs": [],
   "source": [
    "SELECT * FROM TRAINING LIMIT 2;"
   ]
  },
  {
   "cell_type": "code",
   "id": "0cd1134e-f405-44bc-b73c-7f8d6a0ac96c",
   "metadata": {
    "language": "sql",
    "name": "viewvalidationdata"
   },
   "outputs": [],
   "source": "SELECT * FROM VALIDATION LIMIT 2;",
   "execution_count": null
  },
  {
   "cell_type": "markdown",
   "id": "d7fb7d20-c348-4915-92d5-9516554d7e4a",
   "metadata": {
    "name": "instructiontuning",
    "collapsed": false
   },
   "source": "* PROMPT ENGINEERING \n\nCreate a Prompt engineering template that takes in the customer email as input and with instructing fine tuning, generates a response based on presence of required annotations"
  },
  {
   "cell_type": "code",
   "execution_count": null,
   "id": "95c8f8a2-cce7-44e6-b03b-fc2b4fcacb28",
   "metadata": {
    "collapsed": false,
    "language": "sql",
    "name": "prompteng"
   },
   "outputs": [],
   "source": [
    "\n",
    "CREATE OR REPLACE FUNCTION PROMPT_TEMPLATE_EXTRACT_JSON(customer_message STRING)\n",
    "RETURNS STRING\n",
    "LANGUAGE SQL\n",
    "AS\n",
    "$$\n",
    "CONCAT(\n",
    "'You are a customer support agent of a food truck franchise company TastyBytes. \n",
    "\n",
    "Customers will send messages with feedback on food trucks, their experience with \n",
    "the food they ordered or bought or ask questions about the menu. \n",
    "\n",
    "In order to respond to the messages, you need to know the name of the food truck \n",
    "and the city the food truck is located in. If the customer message does not \n",
    "contain the name of the food truck or the city, you have to send a follow-up \n",
    "message to the customer asking for that information. If the city is missing, do \n",
    "not ask the customer where the truck is located but instead ask in which city \n",
    "they experienced the issue. If the name of the truck name is missing, please \n",
    "kindly ask the customer to clarify which truck they are referring to since there \n",
    "are multiple TastyBytes trucks in the city.\n",
    "\n",
    "In your message, you should acknowledge and reference the customer\\'s message \n",
    "content. Please thank the customer for their message. If the customer complains, \n",
    "please apologize to the customer.\n",
    "\n",
    "If the customer is asking for a refund, please state that you will issue the \n",
    "refund and that there will be a separate message to enter the payment details. \n",
    "\n",
    "Do respond as if you were a human. Do not mention that you are an AI assistant. \n",
    "Do not ask the customer to contact anyone else.\n",
    "\n",
    "Customer message: ', customer_message,'\n",
    "\n",
    "Format your response as valid JSON with the fields:\n",
    "\"location\": the location of the truck mentioned in the customer email, null if missing;\n",
    "\"truck\": the name of the truck mentioned in the customer email, null if missing;\n",
    "\"response_body\": contents of your response to the customer.\n",
    "\n",
    "')\n",
    "$$\n",
    ";\n"
   ]
  },
  {
   "cell_type": "markdown",
   "id": "35d60a09-f356-42a7-9ed5-7e0eeb1a2bfe",
   "metadata": {
    "name": "promptenginnering",
    "collapsed": false
   },
   "source": "* Create a table that will contain the output from applying the function with the prompt engineering instruction tuning template"
  },
  {
   "cell_type": "code",
   "execution_count": null,
   "id": "f2f2f663-36a3-4de0-96c6-12fedead2553",
   "metadata": {
    "collapsed": false,
    "language": "sql",
    "name": "FINE_TUNING_VALIDATION_BASE_PROMPTING_table"
   },
   "outputs": [],
   "source": [
    "CREATE OR REPLACE TABLE FINE_TUNING_VALIDATION_BASE_PROMPTING AS (\n",
    "    SELECT\n",
    "        -- Carry over fields from source for convenience.\n",
    "        ID, BODY, LABELED_LOCATION, LABELED_TRUCK, \n",
    "        -- Run the LLM with the prompt template from above.\n",
    "        SNOWFLAKE.CORTEX.COMPLETE(\n",
    "            -- Base model\n",
    "            'mistral-7b',\n",
    "            -- Prompt template\n",
    "            PROMPT_TEMPLATE_EXTRACT_JSON(body)\n",
    "        ) AS RESPONSE\n",
    "    FROM VALIDATION\n",
    ");"
   ]
  },
  {
   "cell_type": "code",
   "id": "f438ca32-bb16-4b10-9d2d-34bf60b698e7",
   "metadata": {
    "language": "sql",
    "name": "viewpromptengtabledata",
    "collapsed": false
   },
   "outputs": [],
   "source": "select RESPONSE FROM FINE_TUNING_VALIDATION_BASE_PROMPTING LIMIT 2;",
   "execution_count": null
  },
  {
   "cell_type": "code",
   "execution_count": null,
   "id": "49c2a67c-f3d5-49e7-b899-ca745eade158",
   "metadata": {
    "collapsed": false,
    "language": "sql",
    "name": "viewpromptingdatawithmissinglocation"
   },
   "outputs": [],
   "source": [
    "\n",
    "SELECT\n",
    "    LABELED_LOCATION,\n",
    "    TRY_PARSE_JSON(RESPONSE):location::STRING as BASE_MODEL_RESPONSE_LOCATION\n",
    "FROM FINE_TUNING_VALIDATION_BASE_PROMPTING;\n",
    "\n"
   ]
  },
  {
   "cell_type": "code",
   "execution_count": null,
   "id": "690c48cb-62f7-4103-afc0-91ad25d3a8c0",
   "metadata": {
    "collapsed": false,
    "language": "sql",
    "name": "viewpromptingdatawithmissingtruck"
   },
   "outputs": [],
   "source": "SELECT\n    LABELED_TRUCK,\n    TRY_PARSE_JSON(RESPONSE):truck::STRING as BASE_MODEL_RESPONSE_TRUCK,\nFROM FINE_TUNING_VALIDATION_BASE_PROMPTING;"
  },
  {
   "cell_type": "markdown",
   "id": "d42ce1e2-f436-4fa3-8b69-3f9b9a629f78",
   "metadata": {
    "name": "accuracy",
    "collapsed": false
   },
   "source": "* Determine Accuracy of the output from Prompt Engineered Response"
  },
  {
   "cell_type": "code",
   "execution_count": null,
   "id": "471133b1-4e04-46e9-8a43-aa1e3e19a02a",
   "metadata": {
    "collapsed": false,
    "language": "sql",
    "name": "fntodetermineaccuracy"
   },
   "outputs": [],
   "source": [
    "CREATE OR REPLACE FUNCTION ACCURACY(candidate STRING, reference STRING)\n",
    "RETURNS number\n",
    "LANGUAGE SQL\n",
    "AS\n",
    "$$\n",
    "DIV0(SUM(IFF(\n",
    "    EQUAL_NULL(\n",
    "        reference, \n",
    "        candidate\n",
    "    ),\n",
    "    -- THEN\n",
    "    1,\n",
    "    -- ELSE\n",
    "    0\n",
    ")), COUNT(*))\n",
    "$$\n",
    ";"
   ]
  },
  {
   "cell_type": "code",
   "execution_count": null,
   "id": "79d1e9fb-96dd-4c1b-a955-c23548eaed39",
   "metadata": {
    "language": "sql",
    "name": "Accuracyfromprompteng",
    "collapsed": false
   },
   "outputs": [],
   "source": [
    "SELECT\n",
    "    ACCURACY(TRY_PARSE_JSON(RESPONSE):location::STRING, LABELED_LOCATION) AS BASE_MODEL_ACCURACY_LOCATION,\n",
    "    ACCURACY(TRY_PARSE_JSON(RESPONSE):truck::STRING, LABELED_TRUCK) AS BASE_MODEL_ACCURACY_TRUCK\n",
    "FROM FINE_TUNING_VALIDATION_BASE_PROMPTING;"
   ]
  },
  {
   "cell_type": "markdown",
   "id": "280dd708-8126-4ce7-a475-98b6f119ffe5",
   "metadata": {
    "name": "finetuning",
    "collapsed": false
   },
   "source": "## CORTEX FINETUNING \nCortex Fine-Tuning is a fully managed service that lets you fine-tune popular LLMs using your data, all within Snowflake."
  },
  {
   "cell_type": "markdown",
   "id": "5a9047ed-e35b-4d17-a1c0-028d424dbe17",
   "metadata": {
    "name": "documentation",
    "collapsed": false
   },
   "source": "Call the SNOWFLAKE.CORTEX.FINETUNE function and pass in ‘CREATE’ as the first argument to start a fine-tuning job. Specify which base model needs to be used. \n\nFor entire list of models available to fine tune refer to Snowflake Documentation \nhttps://docs.snowflake.com/en/user-guide/snowflake-cortex/cortex-finetuning"
  },
  {
   "cell_type": "code",
   "execution_count": null,
   "id": "f7eafb23-5452-4a02-aba9-40aeb2fa6594",
   "metadata": {
    "collapsed": false,
    "language": "sql",
    "name": "createfinetuningjob"
   },
   "outputs": [],
   "source": "SELECT SNOWFLAKE.CORTEX.FINETUNE(\n    'CREATE', \n    -- Custom model name, make sure name below is unique\n    'SUPPORT_MISTRAL_7B',\n    -- Base model name\n    'mistral-7b',\n    -- Training data query\n    'SELECT BODY AS PROMPT, GOLDEN_JSON AS COMPLETION FROM TRAINING',\n    -- Validation data query \n    'SELECT BODY AS PROMPT, GOLDEN_JSON AS COMPLETION FROM VALIDATION' \n);"
  },
  {
   "cell_type": "markdown",
   "id": "05b094e4-cdd4-4cd5-9f2a-aacb1b092f99",
   "metadata": {
    "name": "Waitforfinetuningjobtocomplete"
   },
   "source": [
    "## Wait for ~5-10 mins for the job to complete. If the Show Models in the below displays the model specified in above Fine tune creation then that denotes successful creation of the model."
   ]
  },
  {
   "cell_type": "code",
   "id": "af3d1d0a-2ebd-48dc-9a6e-fb3635e126ff",
   "metadata": {
    "language": "sql",
    "name": "describethefinetuningjob",
    "collapsed": false,
    "codeCollapsed": false
   },
   "outputs": [],
   "source": "--Pick the output of last cell's result and add it below replacing the ''\nSelect SNOWFLAKE.CORTEX.FINETUNE(\n  'DESCRIBE',\n  ''\n);",
   "execution_count": null
  },
  {
   "cell_type": "markdown",
   "id": "51507558-0a4c-41fc-83df-c376a74ab8b2",
   "metadata": {
    "name": "list",
    "collapsed": false
   },
   "source": "#### List the fine-tuning jobs for which you have access privileges."
  },
  {
   "cell_type": "code",
   "execution_count": null,
   "id": "40511122-8f39-4c26-8679-9adce6eaafa6",
   "metadata": {
    "collapsed": false,
    "language": "sql",
    "name": "Listmodels"
   },
   "outputs": [],
   "source": "SHOW MODELS;"
  },
  {
   "cell_type": "code",
   "execution_count": null,
   "id": "d2eda9ef-1c37-4fba-b37c-6ba8aa8604db",
   "metadata": {
    "language": "sql",
    "name": "runfinetunedllm",
    "collapsed": false
   },
   "outputs": [],
   "source": "CREATE OR REPLACE TABLE FINE_TUNING_VALIDATION_FINETUNED AS (\n    SELECT\n        -- Carry over fields from source for convenience.\n        ID, BODY, LABELED_TRUCK, LABELED_LOCATION,\n        -- Run the custom fine-tuned LLM.\n        SNOWFLAKE.CORTEX.COMPLETE(\n            -- Custom model\n            'SUPPORT_MISTRAL_7B', \n            -- No prompt template needed.\n            body \n        ) AS RESPONSE\n    FROM VALIDATION\n);\n"
  },
  {
   "cell_type": "code",
   "execution_count": null,
   "id": "459499d4-288c-411f-8d51-2cbcea05f05e",
   "metadata": {
    "language": "sql",
    "name": "viewresults",
    "collapsed": false
   },
   "outputs": [],
   "source": [
    "SELECT RESPONSE FROM FINE_TUNING_VALIDATION_FINETUNED LIMIT 5;"
   ]
  },
  {
   "cell_type": "code",
   "execution_count": null,
   "id": "32705991-0714-4802-96ff-ad0663ec0a9d",
   "metadata": {
    "language": "sql",
    "name": "promptgen",
    "collapsed": false
   },
   "outputs": [],
   "source": [
    "SELECT\n",
    "    LABELED_LOCATION,\n",
    "    TRY_PARSE_JSON(RESPONSE):location::STRING as FINETUNED_MODEL_RESPONSE_LOCATION,\n",
    "FROM FINE_TUNING_VALIDATION_FINETUNED;"
   ]
  },
  {
   "cell_type": "code",
   "execution_count": null,
   "id": "233ba0e4-144d-4681-8e9f-2182debe3f08",
   "metadata": {
    "language": "sql",
    "name": "viewdata2",
    "collapsed": false
   },
   "outputs": [],
   "source": [
    "SELECT\n",
    "    LABELED_TRUCK,\n",
    "    TRY_PARSE_JSON(RESPONSE):truck::STRING as FINETUNED_MODEL_RESPONSE_TRUCK,\n",
    "FROM FINE_TUNING_VALIDATION_FINETUNED;"
   ]
  },
  {
   "cell_type": "markdown",
   "id": "6c85e42d-91fb-456b-9c86-27009dab7b43",
   "metadata": {
    "collapsed": false,
    "name": "SCORE"
   },
   "source": [
    "## SCORING\n",
    "\n",
    "Let's analyze the difference between carrying just Prompt engineering vs fine tuning a LLM using Cortex"
   ]
  },
  {
   "cell_type": "code",
   "execution_count": null,
   "id": "a7c3ce5e-5042-44ea-9418-b3aeeaf4ea4d",
   "metadata": {
    "language": "sql",
    "name": "Scorefinetuned",
    "collapsed": false
   },
   "outputs": [],
   "source": [
    "\n",
    "SELECT\n",
    "    ACCURACY(TRY_PARSE_JSON(RESPONSE):location::STRING, LABELED_LOCATION) AS ACCURACY_LOCATION,\n",
    "    ACCURACY(TRY_PARSE_JSON(RESPONSE):truck::STRING, LABELED_TRUCK) AS ACCURACY_TRUCK\n",
    "FROM FINE_TUNING_VALIDATION_FINETUNED;"
   ]
  },
  {
   "cell_type": "code",
   "execution_count": null,
   "id": "0454429a-3bdc-4463-88eb-3e23bf2bf4ad",
   "metadata": {
    "language": "sql",
    "name": "comparelocations",
    "collapsed": false
   },
   "outputs": [],
   "source": [
    "SELECT \n",
    "    base.LABELED_LOCATION, \n",
    "    TRY_PARSE_JSON(base.RESPONSE):location::STRING as BASE_MODEL_LOCATION,\n",
    "    TRY_PARSE_JSON(custom.RESPONSE):location::STRING as FINETUNED_MODEL_LOCATION,\n",
    "FROM FINE_TUNING_VALIDATION_BASE_PROMPTING as base\n",
    "JOIN FINE_TUNING_VALIDATION_FINETUNED as custom\n",
    "ON base.ID = custom.ID;"
   ]
  },
  {
   "cell_type": "code",
   "execution_count": null,
   "id": "a5e211ef-f507-4f52-9779-cb890e26a83f",
   "metadata": {
    "language": "sql",
    "name": "comparetrucks",
    "collapsed": false
   },
   "outputs": [],
   "source": [
    "SELECT \n",
    "    base.LABELED_TRUCK, \n",
    "    TRY_PARSE_JSON(base.RESPONSE):truck::STRING as BASE_MODEL_TRUCK,\n",
    "    TRY_PARSE_JSON(custom.RESPONSE):truck::STRING as FINETUNED_MODEL_TRUCK,\n",
    "FROM FINE_TUNING_VALIDATION_BASE_PROMPTING as base\n",
    "JOIN FINE_TUNING_VALIDATION_FINETUNED as custom\n",
    "ON base.ID = custom.ID;"
   ]
  },
  {
   "cell_type": "markdown",
   "id": "ea5ed0d5-e046-4417-b9ae-3ed36cb78ae6",
   "metadata": {
    "collapsed": false,
    "name": "end"
   },
   "source": [
    "## END OF THE DEMO"
   ]
  }
 ]
}